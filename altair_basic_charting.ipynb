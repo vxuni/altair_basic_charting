{
 "cells": [
  {
   "cell_type": "code",
   "execution_count": 128,
   "metadata": {},
   "outputs": [
    {
     "name": "stdout",
     "output_type": "stream",
     "text": [
      "The autoreload extension is already loaded. To reload it, use:\n",
      "  %reload_ext autoreload\n"
     ]
    }
   ],
   "source": [
    "%load_ext autoreload\n",
    "%autoreload 2"
   ]
  },
  {
   "cell_type": "code",
   "execution_count": 129,
   "metadata": {},
   "outputs": [],
   "source": [
    "import altair as alt\n",
    "import pandas as pd"
   ]
  },
  {
   "cell_type": "code",
   "execution_count": 130,
   "metadata": {},
   "outputs": [],
   "source": [
    "eth_price = pd.read_html('https://coinmarketcap.com/currencies/ethereum/historical-data/', 'Market Cap', parse_dates=[0])[0]"
   ]
  },
  {
   "cell_type": "code",
   "execution_count": 131,
   "metadata": {},
   "outputs": [
    {
     "data": {
      "text/html": [
       "<div>\n",
       "<style scoped>\n",
       "    .dataframe tbody tr th:only-of-type {\n",
       "        vertical-align: middle;\n",
       "    }\n",
       "\n",
       "    .dataframe tbody tr th {\n",
       "        vertical-align: top;\n",
       "    }\n",
       "\n",
       "    .dataframe thead th {\n",
       "        text-align: right;\n",
       "    }\n",
       "</style>\n",
       "<table border=\"1\" class=\"dataframe\">\n",
       "  <thead>\n",
       "    <tr style=\"text-align: right;\">\n",
       "      <th></th>\n",
       "      <th>Date</th>\n",
       "      <th>Open*</th>\n",
       "      <th>High</th>\n",
       "      <th>Low</th>\n",
       "      <th>Close**</th>\n",
       "      <th>Volume</th>\n",
       "      <th>Market Cap</th>\n",
       "    </tr>\n",
       "  </thead>\n",
       "  <tbody>\n",
       "    <tr>\n",
       "      <th>0</th>\n",
       "      <td>2018-09-08</td>\n",
       "      <td>217.91</td>\n",
       "      <td>220.37</td>\n",
       "      <td>193.26</td>\n",
       "      <td>197.95</td>\n",
       "      <td>1517200000</td>\n",
       "      <td>22187693065</td>\n",
       "    </tr>\n",
       "    <tr>\n",
       "      <th>1</th>\n",
       "      <td>2018-09-07</td>\n",
       "      <td>229.53</td>\n",
       "      <td>233.90</td>\n",
       "      <td>217.07</td>\n",
       "      <td>217.20</td>\n",
       "      <td>1678260000</td>\n",
       "      <td>23366572107</td>\n",
       "    </tr>\n",
       "    <tr>\n",
       "      <th>2</th>\n",
       "      <td>2018-09-06</td>\n",
       "      <td>231.65</td>\n",
       "      <td>231.75</td>\n",
       "      <td>218.12</td>\n",
       "      <td>230.22</td>\n",
       "      <td>2097310000</td>\n",
       "      <td>23576873426</td>\n",
       "    </tr>\n",
       "    <tr>\n",
       "      <th>3</th>\n",
       "      <td>2018-09-05</td>\n",
       "      <td>286.05</td>\n",
       "      <td>288.16</td>\n",
       "      <td>232.33</td>\n",
       "      <td>232.33</td>\n",
       "      <td>2390390000</td>\n",
       "      <td>29107551074</td>\n",
       "    </tr>\n",
       "    <tr>\n",
       "      <th>4</th>\n",
       "      <td>2018-09-04</td>\n",
       "      <td>289.30</td>\n",
       "      <td>291.58</td>\n",
       "      <td>284.25</td>\n",
       "      <td>285.72</td>\n",
       "      <td>1554870000</td>\n",
       "      <td>29432488855</td>\n",
       "    </tr>\n",
       "  </tbody>\n",
       "</table>\n",
       "</div>"
      ],
      "text/plain": [
       "        Date   Open*    High     Low  Close**      Volume   Market Cap\n",
       "0 2018-09-08  217.91  220.37  193.26   197.95  1517200000  22187693065\n",
       "1 2018-09-07  229.53  233.90  217.07   217.20  1678260000  23366572107\n",
       "2 2018-09-06  231.65  231.75  218.12   230.22  2097310000  23576873426\n",
       "3 2018-09-05  286.05  288.16  232.33   232.33  2390390000  29107551074\n",
       "4 2018-09-04  289.30  291.58  284.25   285.72  1554870000  29432488855"
      ]
     },
     "execution_count": 131,
     "metadata": {},
     "output_type": "execute_result"
    }
   ],
   "source": [
    "eth_price.head()"
   ]
  },
  {
   "cell_type": "code",
   "execution_count": 132,
   "metadata": {},
   "outputs": [],
   "source": [
    "eth_price.rename({'Open*': 'Open', 'Close**': 'Close', 'Market Cap': 'Market_Cap'}, axis='columns', inplace=True)"
   ]
  },
  {
   "cell_type": "code",
   "execution_count": 134,
   "metadata": {},
   "outputs": [
    {
     "data": {
      "text/html": [
       "<div>\n",
       "<style scoped>\n",
       "    .dataframe tbody tr th:only-of-type {\n",
       "        vertical-align: middle;\n",
       "    }\n",
       "\n",
       "    .dataframe tbody tr th {\n",
       "        vertical-align: top;\n",
       "    }\n",
       "\n",
       "    .dataframe thead th {\n",
       "        text-align: right;\n",
       "    }\n",
       "</style>\n",
       "<table border=\"1\" class=\"dataframe\">\n",
       "  <thead>\n",
       "    <tr style=\"text-align: right;\">\n",
       "      <th></th>\n",
       "      <th>Date</th>\n",
       "      <th>Open</th>\n",
       "      <th>High</th>\n",
       "      <th>Low</th>\n",
       "      <th>Close</th>\n",
       "      <th>Volume</th>\n",
       "      <th>Market_Cap</th>\n",
       "    </tr>\n",
       "  </thead>\n",
       "  <tbody>\n",
       "    <tr>\n",
       "      <th>0</th>\n",
       "      <td>2018-09-08</td>\n",
       "      <td>217.91</td>\n",
       "      <td>220.37</td>\n",
       "      <td>193.26</td>\n",
       "      <td>197.95</td>\n",
       "      <td>1517200000</td>\n",
       "      <td>22187693065</td>\n",
       "    </tr>\n",
       "    <tr>\n",
       "      <th>1</th>\n",
       "      <td>2018-09-07</td>\n",
       "      <td>229.53</td>\n",
       "      <td>233.90</td>\n",
       "      <td>217.07</td>\n",
       "      <td>217.20</td>\n",
       "      <td>1678260000</td>\n",
       "      <td>23366572107</td>\n",
       "    </tr>\n",
       "    <tr>\n",
       "      <th>2</th>\n",
       "      <td>2018-09-06</td>\n",
       "      <td>231.65</td>\n",
       "      <td>231.75</td>\n",
       "      <td>218.12</td>\n",
       "      <td>230.22</td>\n",
       "      <td>2097310000</td>\n",
       "      <td>23576873426</td>\n",
       "    </tr>\n",
       "    <tr>\n",
       "      <th>3</th>\n",
       "      <td>2018-09-05</td>\n",
       "      <td>286.05</td>\n",
       "      <td>288.16</td>\n",
       "      <td>232.33</td>\n",
       "      <td>232.33</td>\n",
       "      <td>2390390000</td>\n",
       "      <td>29107551074</td>\n",
       "    </tr>\n",
       "    <tr>\n",
       "      <th>4</th>\n",
       "      <td>2018-09-04</td>\n",
       "      <td>289.30</td>\n",
       "      <td>291.58</td>\n",
       "      <td>284.25</td>\n",
       "      <td>285.72</td>\n",
       "      <td>1554870000</td>\n",
       "      <td>29432488855</td>\n",
       "    </tr>\n",
       "  </tbody>\n",
       "</table>\n",
       "</div>"
      ],
      "text/plain": [
       "        Date    Open    High     Low   Close      Volume   Market_Cap\n",
       "0 2018-09-08  217.91  220.37  193.26  197.95  1517200000  22187693065\n",
       "1 2018-09-07  229.53  233.90  217.07  217.20  1678260000  23366572107\n",
       "2 2018-09-06  231.65  231.75  218.12  230.22  2097310000  23576873426\n",
       "3 2018-09-05  286.05  288.16  232.33  232.33  2390390000  29107551074\n",
       "4 2018-09-04  289.30  291.58  284.25  285.72  1554870000  29432488855"
      ]
     },
     "execution_count": 134,
     "metadata": {},
     "output_type": "execute_result"
    }
   ],
   "source": [
    "eth_price.head()"
   ]
  },
  {
   "cell_type": "code",
   "execution_count": 139,
   "metadata": {},
   "outputs": [
    {
     "data": {
      "application/vnd.vegalite.v2+json": {
       "$schema": "https://vega.github.io/schema/vega-lite/v2.6.0.json",
       "config": {
        "view": {
         "height": 300,
         "width": 400
        }
       },
       "datasets": {
        "data-827bdac4a0cbc1e6a4fd672d7a458c27": [
         {
          "Close": 197.95,
          "Date": "2018-09-08T00:00:00",
          "High": 220.37,
          "Low": 193.26,
          "Market_Cap": 22187693065,
          "Open": 217.91,
          "Volume": 1517200000
         },
         {
          "Close": 217.2,
          "Date": "2018-09-07T00:00:00",
          "High": 233.9,
          "Low": 217.07,
          "Market_Cap": 23366572107,
          "Open": 229.53,
          "Volume": 1678260000
         },
         {
          "Close": 230.22,
          "Date": "2018-09-06T00:00:00",
          "High": 231.75,
          "Low": 218.12,
          "Market_Cap": 23576873426,
          "Open": 231.65,
          "Volume": 2097310000
         },
         {
          "Close": 232.33,
          "Date": "2018-09-05T00:00:00",
          "High": 288.16,
          "Low": 232.33,
          "Market_Cap": 29107551074,
          "Open": 286.05,
          "Volume": 2390390000
         },
         {
          "Close": 285.72,
          "Date": "2018-09-04T00:00:00",
          "High": 291.58,
          "Low": 284.25,
          "Market_Cap": 29432488855,
          "Open": 289.3,
          "Volume": 1554870000
         },
         {
          "Close": 289.26,
          "Date": "2018-09-03T00:00:00",
          "High": 295.59,
          "Low": 287.43,
          "Market_Cap": 30025069120,
          "Open": 295.18,
          "Volume": 1394490000
         },
         {
          "Close": 294.37,
          "Date": "2018-09-02T00:00:00",
          "High": 298.69,
          "Low": 290.93,
          "Market_Cap": 30046692957,
          "Open": 295.45,
          "Volume": 1321050000
         },
         {
          "Close": 295.34,
          "Date": "2018-09-01T00:00:00",
          "High": 301.14,
          "Low": 283.5,
          "Market_Cap": 28824991126,
          "Open": 283.5,
          "Volume": 1546630000
         },
         {
          "Close": 283,
          "Date": "2018-08-31T00:00:00",
          "High": 284.55,
          "Low": 278.51,
          "Market_Cap": 28882613519,
          "Open": 284.12,
          "Volume": 1411910000
         },
         {
          "Close": 284.11,
          "Date": "2018-08-30T00:00:00",
          "High": 291.24,
          "Low": 275.21,
          "Market_Cap": 29449252259,
          "Open": 289.75,
          "Volume": 1513100000
         },
         {
          "Close": 289.31,
          "Date": "2018-08-29T00:00:00",
          "High": 297.07,
          "Low": 287.29,
          "Market_Cap": 30094775053,
          "Open": 296.16,
          "Volume": 1474460000
         },
         {
          "Close": 296.5,
          "Date": "2018-08-28T00:00:00",
          "High": 297.4,
          "Low": 283.57,
          "Market_Cap": 29122157621,
          "Open": 286.65,
          "Volume": 1513350000
         },
         {
          "Close": 285.6,
          "Date": "2018-08-27T00:00:00",
          "High": 285.6,
          "Low": 273.65,
          "Market_Cap": 27968567433,
          "Open": 275.35,
          "Volume": 1406790000
         },
         {
          "Close": 275.2,
          "Date": "2018-08-26T00:00:00",
          "High": 279.52,
          "Low": 272.44,
          "Market_Cap": 28386921151,
          "Open": 279.52,
          "Volume": 1206650000
         },
         {
          "Close": 279.65,
          "Date": "2018-08-25T00:00:00",
          "High": 283.51,
          "Low": 278.47,
          "Market_Cap": 28762556561,
          "Open": 283.28,
          "Volume": 1208360000
         },
         {
          "Close": 282.97,
          "Date": "2018-08-24T00:00:00",
          "High": 283.3,
          "Low": 273.86,
          "Market_Cap": 28231866915,
          "Open": 278.11,
          "Volume": 1450170000
         },
         {
          "Close": 277.1,
          "Date": "2018-08-23T00:00:00",
          "High": 279.55,
          "Low": 271.09,
          "Market_Cap": 27580425754,
          "Open": 271.75,
          "Volume": 1271160000
         },
         {
          "Close": 271.34,
          "Date": "2018-08-22T00:00:00",
          "High": 297.49,
          "Low": 265,
          "Market_Cap": 28611999411,
          "Open": 281.97,
          "Volume": 1507660000
         },
         {
          "Close": 281.94,
          "Date": "2018-08-21T00:00:00",
          "High": 285.97,
          "Low": 273.33,
          "Market_Cap": 27729942831,
          "Open": 273.33,
          "Volume": 1164120000
         },
         {
          "Close": 274.31,
          "Date": "2018-08-20T00:00:00",
          "High": 304.37,
          "Low": 273.51,
          "Market_Cap": 30569460458,
          "Open": 301.38,
          "Volume": 1413790000
         },
         {
          "Close": 300.83,
          "Date": "2018-08-19T00:00:00",
          "High": 307.1,
          "Low": 291.33,
          "Market_Cap": 29984192045,
          "Open": 295.67,
          "Volume": 1447910000
         },
         {
          "Close": 295.81,
          "Date": "2018-08-18T00:00:00",
          "High": 320.45,
          "Low": 286.55,
          "Market_Cap": 32119577919,
          "Open": 316.79,
          "Volume": 1764020000
         },
         {
          "Close": 315.73,
          "Date": "2018-08-17T00:00:00",
          "High": 316.17,
          "Low": 287.35,
          "Market_Cap": 29162476049,
          "Open": 287.68,
          "Volume": 1995460000
         },
         {
          "Close": 288.05,
          "Date": "2018-08-16T00:00:00",
          "High": 298.48,
          "Low": 280.93,
          "Market_Cap": 28655663078,
          "Open": 282.74,
          "Volume": 1552970000
         },
         {
          "Close": 282.36,
          "Date": "2018-08-15T00:00:00",
          "High": 303.59,
          "Low": 280.12,
          "Market_Cap": 28411365408,
          "Open": 280.39,
          "Volume": 1878150000
         },
         {
          "Close": 278.93,
          "Date": "2018-08-14T00:00:00",
          "High": 286.37,
          "Low": 254.65,
          "Market_Cap": 29011325541,
          "Open": 286.37,
          "Volume": 2137850000
         },
         {
          "Close": 286.5,
          "Date": "2018-08-13T00:00:00",
          "High": 323.55,
          "Low": 284.93,
          "Market_Cap": 32433585929,
          "Open": 320.21,
          "Volume": 1751190000
         },
         {
          "Close": 319.57,
          "Date": "2018-08-12T00:00:00",
          "High": 328.59,
          "Low": 318.6,
          "Market_Cap": 32489149687,
          "Open": 320.82,
          "Volume": 1625420000
         },
         {
          "Close": 322.11,
          "Date": "2018-08-11T00:00:00",
          "High": 334.26,
          "Low": 308.49,
          "Market_Cap": 33843432717,
          "Open": 334.26,
          "Volume": 1790370000
         },
         {
          "Close": 334.18,
          "Date": "2018-08-10T00:00:00",
          "High": 367.05,
          "Low": 329.59,
          "Market_Cap": 37026418724,
          "Open": 365.78,
          "Volume": 1699400000
         }
        ]
       },
       "vconcat": [
        {
         "layer": [
          {
           "data": {
            "name": "data-827bdac4a0cbc1e6a4fd672d7a458c27"
           },
           "encoding": {
            "color": {
             "condition": {
              "test": "datum.Open < datum.Close",
              "value": "#06982d"
             },
             "value": "#ae1325"
            },
            "x": {
             "field": "Date",
             "type": "temporal"
            },
            "y": {
             "axis": {
              "title": "Price"
             },
             "field": "Low",
             "scale": {
              "zero": false
             },
             "type": "quantitative"
            },
            "y2": {
             "field": "High",
             "type": "quantitative"
            }
           },
           "mark": "rule"
          },
          {
           "data": {
            "name": "data-827bdac4a0cbc1e6a4fd672d7a458c27"
           },
           "encoding": {
            "color": {
             "condition": {
              "test": "datum.Open < datum.Close",
              "value": "#06982d"
             },
             "value": "#ae1325"
            },
            "x": {
             "field": "Date",
             "type": "temporal"
            },
            "y": {
             "field": "Open",
             "type": "quantitative"
            },
            "y2": {
             "field": "Close",
             "type": "quantitative"
            }
           },
           "mark": "bar"
          }
         ]
        },
        {
         "data": {
          "name": "data-827bdac4a0cbc1e6a4fd672d7a458c27"
         },
         "encoding": {
          "x": {
           "field": "Date",
           "type": "temporal"
          },
          "y": {
           "field": "Volume",
           "scale": {
            "zero": false
           },
           "type": "quantitative"
          }
         },
         "height": 100,
         "mark": "bar"
        }
       ]
      },
      "image/png": "[encoded data removed]",
      "text/plain": [
       "<VegaLite 2 object>\n",
       "\n",
       "If you see this message, it means the renderer has not been properly enabled\n",
       "for the frontend that you are using. For more information, see\n",
       "https://altair-viz.github.io/user_guide/troubleshooting.html\n"
      ]
     },
     "execution_count": 139,
     "metadata": {},
     "output_type": "execute_result"
    }
   ],
   "source": [
    "import altair_basic_charting as abc\n",
    "rule, bar, volume = abc.build_candlestick_charts(eth_price)\n",
    "rule + bar & volume"
   ]
  },
  {
   "cell_type": "code",
   "execution_count": 146,
   "metadata": {},
   "outputs": [
    {
     "data": {
      "application/vnd.vegalite.v2+json": {
       "$schema": "https://vega.github.io/schema/vega-lite/v2.6.0.json",
       "config": {
        "view": {
         "height": 300,
         "width": 400
        }
       },
       "datasets": {
        "data-827bdac4a0cbc1e6a4fd672d7a458c27": [
         {
          "Close": 197.95,
          "Date": "2018-09-08T00:00:00",
          "High": 220.37,
          "Low": 193.26,
          "Market_Cap": 22187693065,
          "Open": 217.91,
          "Volume": 1517200000
         },
         {
          "Close": 217.2,
          "Date": "2018-09-07T00:00:00",
          "High": 233.9,
          "Low": 217.07,
          "Market_Cap": 23366572107,
          "Open": 229.53,
          "Volume": 1678260000
         },
         {
          "Close": 230.22,
          "Date": "2018-09-06T00:00:00",
          "High": 231.75,
          "Low": 218.12,
          "Market_Cap": 23576873426,
          "Open": 231.65,
          "Volume": 2097310000
         },
         {
          "Close": 232.33,
          "Date": "2018-09-05T00:00:00",
          "High": 288.16,
          "Low": 232.33,
          "Market_Cap": 29107551074,
          "Open": 286.05,
          "Volume": 2390390000
         },
         {
          "Close": 285.72,
          "Date": "2018-09-04T00:00:00",
          "High": 291.58,
          "Low": 284.25,
          "Market_Cap": 29432488855,
          "Open": 289.3,
          "Volume": 1554870000
         },
         {
          "Close": 289.26,
          "Date": "2018-09-03T00:00:00",
          "High": 295.59,
          "Low": 287.43,
          "Market_Cap": 30025069120,
          "Open": 295.18,
          "Volume": 1394490000
         },
         {
          "Close": 294.37,
          "Date": "2018-09-02T00:00:00",
          "High": 298.69,
          "Low": 290.93,
          "Market_Cap": 30046692957,
          "Open": 295.45,
          "Volume": 1321050000
         },
         {
          "Close": 295.34,
          "Date": "2018-09-01T00:00:00",
          "High": 301.14,
          "Low": 283.5,
          "Market_Cap": 28824991126,
          "Open": 283.5,
          "Volume": 1546630000
         },
         {
          "Close": 283,
          "Date": "2018-08-31T00:00:00",
          "High": 284.55,
          "Low": 278.51,
          "Market_Cap": 28882613519,
          "Open": 284.12,
          "Volume": 1411910000
         },
         {
          "Close": 284.11,
          "Date": "2018-08-30T00:00:00",
          "High": 291.24,
          "Low": 275.21,
          "Market_Cap": 29449252259,
          "Open": 289.75,
          "Volume": 1513100000
         },
         {
          "Close": 289.31,
          "Date": "2018-08-29T00:00:00",
          "High": 297.07,
          "Low": 287.29,
          "Market_Cap": 30094775053,
          "Open": 296.16,
          "Volume": 1474460000
         },
         {
          "Close": 296.5,
          "Date": "2018-08-28T00:00:00",
          "High": 297.4,
          "Low": 283.57,
          "Market_Cap": 29122157621,
          "Open": 286.65,
          "Volume": 1513350000
         },
         {
          "Close": 285.6,
          "Date": "2018-08-27T00:00:00",
          "High": 285.6,
          "Low": 273.65,
          "Market_Cap": 27968567433,
          "Open": 275.35,
          "Volume": 1406790000
         },
         {
          "Close": 275.2,
          "Date": "2018-08-26T00:00:00",
          "High": 279.52,
          "Low": 272.44,
          "Market_Cap": 28386921151,
          "Open": 279.52,
          "Volume": 1206650000
         },
         {
          "Close": 279.65,
          "Date": "2018-08-25T00:00:00",
          "High": 283.51,
          "Low": 278.47,
          "Market_Cap": 28762556561,
          "Open": 283.28,
          "Volume": 1208360000
         },
         {
          "Close": 282.97,
          "Date": "2018-08-24T00:00:00",
          "High": 283.3,
          "Low": 273.86,
          "Market_Cap": 28231866915,
          "Open": 278.11,
          "Volume": 1450170000
         },
         {
          "Close": 277.1,
          "Date": "2018-08-23T00:00:00",
          "High": 279.55,
          "Low": 271.09,
          "Market_Cap": 27580425754,
          "Open": 271.75,
          "Volume": 1271160000
         },
         {
          "Close": 271.34,
          "Date": "2018-08-22T00:00:00",
          "High": 297.49,
          "Low": 265,
          "Market_Cap": 28611999411,
          "Open": 281.97,
          "Volume": 1507660000
         },
         {
          "Close": 281.94,
          "Date": "2018-08-21T00:00:00",
          "High": 285.97,
          "Low": 273.33,
          "Market_Cap": 27729942831,
          "Open": 273.33,
          "Volume": 1164120000
         },
         {
          "Close": 274.31,
          "Date": "2018-08-20T00:00:00",
          "High": 304.37,
          "Low": 273.51,
          "Market_Cap": 30569460458,
          "Open": 301.38,
          "Volume": 1413790000
         },
         {
          "Close": 300.83,
          "Date": "2018-08-19T00:00:00",
          "High": 307.1,
          "Low": 291.33,
          "Market_Cap": 29984192045,
          "Open": 295.67,
          "Volume": 1447910000
         },
         {
          "Close": 295.81,
          "Date": "2018-08-18T00:00:00",
          "High": 320.45,
          "Low": 286.55,
          "Market_Cap": 32119577919,
          "Open": 316.79,
          "Volume": 1764020000
         },
         {
          "Close": 315.73,
          "Date": "2018-08-17T00:00:00",
          "High": 316.17,
          "Low": 287.35,
          "Market_Cap": 29162476049,
          "Open": 287.68,
          "Volume": 1995460000
         },
         {
          "Close": 288.05,
          "Date": "2018-08-16T00:00:00",
          "High": 298.48,
          "Low": 280.93,
          "Market_Cap": 28655663078,
          "Open": 282.74,
          "Volume": 1552970000
         },
         {
          "Close": 282.36,
          "Date": "2018-08-15T00:00:00",
          "High": 303.59,
          "Low": 280.12,
          "Market_Cap": 28411365408,
          "Open": 280.39,
          "Volume": 1878150000
         },
         {
          "Close": 278.93,
          "Date": "2018-08-14T00:00:00",
          "High": 286.37,
          "Low": 254.65,
          "Market_Cap": 29011325541,
          "Open": 286.37,
          "Volume": 2137850000
         },
         {
          "Close": 286.5,
          "Date": "2018-08-13T00:00:00",
          "High": 323.55,
          "Low": 284.93,
          "Market_Cap": 32433585929,
          "Open": 320.21,
          "Volume": 1751190000
         },
         {
          "Close": 319.57,
          "Date": "2018-08-12T00:00:00",
          "High": 328.59,
          "Low": 318.6,
          "Market_Cap": 32489149687,
          "Open": 320.82,
          "Volume": 1625420000
         },
         {
          "Close": 322.11,
          "Date": "2018-08-11T00:00:00",
          "High": 334.26,
          "Low": 308.49,
          "Market_Cap": 33843432717,
          "Open": 334.26,
          "Volume": 1790370000
         },
         {
          "Close": 334.18,
          "Date": "2018-08-10T00:00:00",
          "High": 367.05,
          "Low": 329.59,
          "Market_Cap": 37026418724,
          "Open": 365.78,
          "Volume": 1699400000
         }
        ]
       },
       "resolve": {
        "scale": {
         "x": "shared",
         "y": "independent"
        }
       },
       "vconcat": [
        {
         "layer": [
          {
           "data": {
            "name": "data-827bdac4a0cbc1e6a4fd672d7a458c27"
           },
           "encoding": {
            "color": {
             "condition": {
              "test": "datum.Open < datum.Close",
              "value": "#06982d"
             },
             "value": "#ae1325"
            },
            "x": {
             "field": "Date",
             "type": "temporal"
            },
            "y": {
             "axis": {
              "title": "Price"
             },
             "field": "Low",
             "scale": {
              "zero": false
             },
             "type": "quantitative"
            },
            "y2": {
             "field": "High",
             "type": "quantitative"
            }
           },
           "mark": "rule",
           "selection": {
            "selector054": {
             "bind": "scales",
             "encodings": [
              "x",
              "y"
             ],
             "mark": {
              "fill": "#333",
              "fillOpacity": 0.125,
              "stroke": "white"
             },
             "on": "[mousedown, window:mouseup] > window:mousemove!",
             "resolve": "global",
             "translate": "[mousedown, window:mouseup] > window:mousemove!",
             "type": "interval",
             "zoom": "wheel!"
            }
           }
          },
          {
           "data": {
            "name": "data-827bdac4a0cbc1e6a4fd672d7a458c27"
           },
           "encoding": {
            "color": {
             "condition": {
              "test": "datum.Open < datum.Close",
              "value": "#06982d"
             },
             "value": "#ae1325"
            },
            "x": {
             "field": "Date",
             "type": "temporal"
            },
            "y": {
             "field": "Open",
             "type": "quantitative"
            },
            "y2": {
             "field": "Close",
             "type": "quantitative"
            }
           },
           "mark": "bar"
          }
         ]
        },
        {
         "data": {
          "name": "data-827bdac4a0cbc1e6a4fd672d7a458c27"
         },
         "encoding": {
          "x": {
           "field": "Date",
           "type": "temporal"
          },
          "y": {
           "field": "Volume",
           "scale": {
            "zero": false
           },
           "type": "quantitative"
          }
         },
         "height": 100,
         "mark": "bar"
        }
       ]
      },
      "image/png": "[encoded data removed]",
      "text/plain": [
       "<VegaLite 2 object>\n",
       "\n",
       "If you see this message, it means the renderer has not been properly enabled\n",
       "for the frontend that you are using. For more information, see\n",
       "https://altair-viz.github.io/user_guide/troubleshooting.html\n"
      ]
     },
     "execution_count": 146,
     "metadata": {},
     "output_type": "execute_result"
    }
   ],
   "source": [
    "# link panning and zooming on the top plot with the bottom plot, only for X\n",
    "combined = abc.pan_zoom_vconcat(rule, bar, volume, method=0)\n",
    "combined"
   ]
  },
  {
   "cell_type": "code",
   "execution_count": 148,
   "metadata": {},
   "outputs": [
    {
     "data": {
      "text/plain": [
       "{'config': {'view': {'width': 400, 'height': 300}},\n",
       " 'vconcat': [{'layer': [{'data': {'name': 'data-827bdac4a0cbc1e6a4fd672d7a458c27'},\n",
       "     'mark': 'rule',\n",
       "     'encoding': {'color': {'condition': {'value': '#06982d',\n",
       "        'test': 'datum.Open < datum.Close'},\n",
       "       'value': '#ae1325'},\n",
       "      'x': {'type': 'temporal', 'field': 'Date'},\n",
       "      'y': {'type': 'quantitative',\n",
       "       'axis': {'title': 'Price'},\n",
       "       'field': 'Low',\n",
       "       'scale': {'zero': False}},\n",
       "      'y2': {'type': 'quantitative', 'field': 'High'}},\n",
       "     'selection': {'selector054': {'type': 'interval',\n",
       "       'bind': 'scales',\n",
       "       'encodings': ['x', 'y']}}},\n",
       "    {'data': {'name': 'data-827bdac4a0cbc1e6a4fd672d7a458c27'},\n",
       "     'mark': 'bar',\n",
       "     'encoding': {'color': {'condition': {'value': '#06982d',\n",
       "        'test': 'datum.Open < datum.Close'},\n",
       "       'value': '#ae1325'},\n",
       "      'x': {'type': 'temporal', 'field': 'Date'},\n",
       "      'y': {'type': 'quantitative', 'field': 'Open'},\n",
       "      'y2': {'type': 'quantitative', 'field': 'Close'}}}]},\n",
       "  {'data': {'name': 'data-827bdac4a0cbc1e6a4fd672d7a458c27'},\n",
       "   'mark': 'bar',\n",
       "   'encoding': {'x': {'type': 'temporal', 'field': 'Date'},\n",
       "    'y': {'type': 'quantitative',\n",
       "     'field': 'Volume',\n",
       "     'scale': {'zero': False}}},\n",
       "   'height': 100}],\n",
       " 'resolve': {'scale': {'x': 'shared'}},\n",
       " '$schema': 'https://vega.github.io/schema/vega-lite/v2.6.0.json',\n",
       " 'datasets': {'data-827bdac4a0cbc1e6a4fd672d7a458c27': [{'Date': '2018-09-08T00:00:00',\n",
       "    'Open': 217.91,\n",
       "    'High': 220.37,\n",
       "    'Low': 193.26,\n",
       "    'Close': 197.95,\n",
       "    'Volume': 1517200000,\n",
       "    'Market_Cap': 22187693065},\n",
       "   {'Date': '2018-09-07T00:00:00',\n",
       "    'Open': 229.53,\n",
       "    'High': 233.9,\n",
       "    'Low': 217.07,\n",
       "    'Close': 217.2,\n",
       "    'Volume': 1678260000,\n",
       "    'Market_Cap': 23366572107},\n",
       "   {'Date': '2018-09-06T00:00:00',\n",
       "    'Open': 231.65,\n",
       "    'High': 231.75,\n",
       "    'Low': 218.12,\n",
       "    'Close': 230.22,\n",
       "    'Volume': 2097310000,\n",
       "    'Market_Cap': 23576873426},\n",
       "   {'Date': '2018-09-05T00:00:00',\n",
       "    'Open': 286.05,\n",
       "    'High': 288.16,\n",
       "    'Low': 232.33,\n",
       "    'Close': 232.33,\n",
       "    'Volume': 2390390000,\n",
       "    'Market_Cap': 29107551074},\n",
       "   {'Date': '2018-09-04T00:00:00',\n",
       "    'Open': 289.3,\n",
       "    'High': 291.58,\n",
       "    'Low': 284.25,\n",
       "    'Close': 285.72,\n",
       "    'Volume': 1554870000,\n",
       "    'Market_Cap': 29432488855},\n",
       "   {'Date': '2018-09-03T00:00:00',\n",
       "    'Open': 295.18,\n",
       "    'High': 295.59,\n",
       "    'Low': 287.43,\n",
       "    'Close': 289.26,\n",
       "    'Volume': 1394490000,\n",
       "    'Market_Cap': 30025069120},\n",
       "   {'Date': '2018-09-02T00:00:00',\n",
       "    'Open': 295.45,\n",
       "    'High': 298.69,\n",
       "    'Low': 290.93,\n",
       "    'Close': 294.37,\n",
       "    'Volume': 1321050000,\n",
       "    'Market_Cap': 30046692957},\n",
       "   {'Date': '2018-09-01T00:00:00',\n",
       "    'Open': 283.5,\n",
       "    'High': 301.14,\n",
       "    'Low': 283.5,\n",
       "    'Close': 295.34,\n",
       "    'Volume': 1546630000,\n",
       "    'Market_Cap': 28824991126},\n",
       "   {'Date': '2018-08-31T00:00:00',\n",
       "    'Open': 284.12,\n",
       "    'High': 284.55,\n",
       "    'Low': 278.51,\n",
       "    'Close': 283.0,\n",
       "    'Volume': 1411910000,\n",
       "    'Market_Cap': 28882613519},\n",
       "   {'Date': '2018-08-30T00:00:00',\n",
       "    'Open': 289.75,\n",
       "    'High': 291.24,\n",
       "    'Low': 275.21,\n",
       "    'Close': 284.11,\n",
       "    'Volume': 1513100000,\n",
       "    'Market_Cap': 29449252259},\n",
       "   {'Date': '2018-08-29T00:00:00',\n",
       "    'Open': 296.16,\n",
       "    'High': 297.07,\n",
       "    'Low': 287.29,\n",
       "    'Close': 289.31,\n",
       "    'Volume': 1474460000,\n",
       "    'Market_Cap': 30094775053},\n",
       "   {'Date': '2018-08-28T00:00:00',\n",
       "    'Open': 286.65,\n",
       "    'High': 297.4,\n",
       "    'Low': 283.57,\n",
       "    'Close': 296.5,\n",
       "    'Volume': 1513350000,\n",
       "    'Market_Cap': 29122157621},\n",
       "   {'Date': '2018-08-27T00:00:00',\n",
       "    'Open': 275.35,\n",
       "    'High': 285.6,\n",
       "    'Low': 273.65,\n",
       "    'Close': 285.6,\n",
       "    'Volume': 1406790000,\n",
       "    'Market_Cap': 27968567433},\n",
       "   {'Date': '2018-08-26T00:00:00',\n",
       "    'Open': 279.52,\n",
       "    'High': 279.52,\n",
       "    'Low': 272.44,\n",
       "    'Close': 275.2,\n",
       "    'Volume': 1206650000,\n",
       "    'Market_Cap': 28386921151},\n",
       "   {'Date': '2018-08-25T00:00:00',\n",
       "    'Open': 283.28,\n",
       "    'High': 283.51,\n",
       "    'Low': 278.47,\n",
       "    'Close': 279.65,\n",
       "    'Volume': 1208360000,\n",
       "    'Market_Cap': 28762556561},\n",
       "   {'Date': '2018-08-24T00:00:00',\n",
       "    'Open': 278.11,\n",
       "    'High': 283.3,\n",
       "    'Low': 273.86,\n",
       "    'Close': 282.97,\n",
       "    'Volume': 1450170000,\n",
       "    'Market_Cap': 28231866915},\n",
       "   {'Date': '2018-08-23T00:00:00',\n",
       "    'Open': 271.75,\n",
       "    'High': 279.55,\n",
       "    'Low': 271.09,\n",
       "    'Close': 277.1,\n",
       "    'Volume': 1271160000,\n",
       "    'Market_Cap': 27580425754},\n",
       "   {'Date': '2018-08-22T00:00:00',\n",
       "    'Open': 281.97,\n",
       "    'High': 297.49,\n",
       "    'Low': 265.0,\n",
       "    'Close': 271.34,\n",
       "    'Volume': 1507660000,\n",
       "    'Market_Cap': 28611999411},\n",
       "   {'Date': '2018-08-21T00:00:00',\n",
       "    'Open': 273.33,\n",
       "    'High': 285.97,\n",
       "    'Low': 273.33,\n",
       "    'Close': 281.94,\n",
       "    'Volume': 1164120000,\n",
       "    'Market_Cap': 27729942831},\n",
       "   {'Date': '2018-08-20T00:00:00',\n",
       "    'Open': 301.38,\n",
       "    'High': 304.37,\n",
       "    'Low': 273.51,\n",
       "    'Close': 274.31,\n",
       "    'Volume': 1413790000,\n",
       "    'Market_Cap': 30569460458},\n",
       "   {'Date': '2018-08-19T00:00:00',\n",
       "    'Open': 295.67,\n",
       "    'High': 307.1,\n",
       "    'Low': 291.33,\n",
       "    'Close': 300.83,\n",
       "    'Volume': 1447910000,\n",
       "    'Market_Cap': 29984192045},\n",
       "   {'Date': '2018-08-18T00:00:00',\n",
       "    'Open': 316.79,\n",
       "    'High': 320.45,\n",
       "    'Low': 286.55,\n",
       "    'Close': 295.81,\n",
       "    'Volume': 1764020000,\n",
       "    'Market_Cap': 32119577919},\n",
       "   {'Date': '2018-08-17T00:00:00',\n",
       "    'Open': 287.68,\n",
       "    'High': 316.17,\n",
       "    'Low': 287.35,\n",
       "    'Close': 315.73,\n",
       "    'Volume': 1995460000,\n",
       "    'Market_Cap': 29162476049},\n",
       "   {'Date': '2018-08-16T00:00:00',\n",
       "    'Open': 282.74,\n",
       "    'High': 298.48,\n",
       "    'Low': 280.93,\n",
       "    'Close': 288.05,\n",
       "    'Volume': 1552970000,\n",
       "    'Market_Cap': 28655663078},\n",
       "   {'Date': '2018-08-15T00:00:00',\n",
       "    'Open': 280.39,\n",
       "    'High': 303.59,\n",
       "    'Low': 280.12,\n",
       "    'Close': 282.36,\n",
       "    'Volume': 1878150000,\n",
       "    'Market_Cap': 28411365408},\n",
       "   {'Date': '2018-08-14T00:00:00',\n",
       "    'Open': 286.37,\n",
       "    'High': 286.37,\n",
       "    'Low': 254.65,\n",
       "    'Close': 278.93,\n",
       "    'Volume': 2137850000,\n",
       "    'Market_Cap': 29011325541},\n",
       "   {'Date': '2018-08-13T00:00:00',\n",
       "    'Open': 320.21,\n",
       "    'High': 323.55,\n",
       "    'Low': 284.93,\n",
       "    'Close': 286.5,\n",
       "    'Volume': 1751190000,\n",
       "    'Market_Cap': 32433585929},\n",
       "   {'Date': '2018-08-12T00:00:00',\n",
       "    'Open': 320.82,\n",
       "    'High': 328.59,\n",
       "    'Low': 318.6,\n",
       "    'Close': 319.57,\n",
       "    'Volume': 1625420000,\n",
       "    'Market_Cap': 32489149687},\n",
       "   {'Date': '2018-08-11T00:00:00',\n",
       "    'Open': 334.26,\n",
       "    'High': 334.26,\n",
       "    'Low': 308.49,\n",
       "    'Close': 322.11,\n",
       "    'Volume': 1790370000,\n",
       "    'Market_Cap': 33843432717},\n",
       "   {'Date': '2018-08-10T00:00:00',\n",
       "    'Open': 365.78,\n",
       "    'High': 367.05,\n",
       "    'Low': 329.59,\n",
       "    'Close': 334.18,\n",
       "    'Volume': 1699400000,\n",
       "    'Market_Cap': 37026418724}]}}"
      ]
     },
     "execution_count": 148,
     "metadata": {},
     "output_type": "execute_result"
    }
   ],
   "source": [
    "# the resultant spec contains the necessary `resolve` clause as seen in the vega-lite docs:\n",
    "# https://vega.github.io/vega-lite/docs/bind.html#scale-binding\n",
    "combined.to_dict()"
   ]
  },
  {
   "cell_type": "markdown",
   "metadata": {},
   "source": [
    "# Random notes\n",
    "\n",
    "* Pan and zoom: Had to dig into vega docs to find this.\n",
    "* Y-Scale: Can't change range to be less than height of view, so could not layer volume chart onto bottom of candlestick chart."
   ]
  }
 ],
 "metadata": {
  "kernelspec": {
   "display_name": "Python 3",
   "language": "python",
   "name": "python3"
  },
  "language_info": {
   "codemirror_mode": {
    "name": "ipython",
    "version": 3
   },
   "file_extension": ".py",
   "mimetype": "text/x-python",
   "name": "python",
   "nbconvert_exporter": "python",
   "pygments_lexer": "ipython3",
   "version": "3.6.6"
  }
 },
 "nbformat": 4,
 "nbformat_minor": 2
}
